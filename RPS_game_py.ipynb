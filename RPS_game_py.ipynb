{
  "cells": [
    {
      "cell_type": "markdown",
      "metadata": {
        "id": "view-in-github",
        "colab_type": "text"
      },
      "source": [
        "<a href=\"https://colab.research.google.com/github/JayNelson93/qwiklabdemo/blob/main/RPS_game_py.ipynb\" target=\"_parent\"><img src=\"https://colab.research.google.com/assets/colab-badge.svg\" alt=\"Open In Colab\"/></a>"
      ]
    },
    {
      "cell_type": "code",
      "execution_count": null,
      "metadata": {
        "colab": {
          "base_uri": "https://localhost:8080/"
        },
        "id": "E_VuJIUfmqVW",
        "outputId": "f9193c62-63ff-45f1-9f61-a829003999cc"
      },
      "outputs": [
        {
          "output_type": "stream",
          "name": "stdout",
          "text": [
            "Type Rock/Paper/Scissors or Q to quit: Rock\n",
            "Computer picked scissors.\n",
            "You won!\n",
            "Type Rock/Paper/Scissors or Q to quit: Paper\n",
            "Computer picked paper.\n",
            "You both tied! Try again.\n",
            "Type Rock/Paper/Scissors or Q to quit: paper\n",
            "Computer picked paper.\n",
            "You both tied! Try again.\n",
            "Type Rock/Paper/Scissors or Q to quit: paper\n",
            "Computer picked paper.\n",
            "You both tied! Try again.\n",
            "Type Rock/Paper/Scissors or Q to quit: paper\n",
            "Computer picked paper.\n",
            "You both tied! Try again.\n",
            "Type Rock/Paper/Scissors or Q to quit: rock\n",
            "Computer picked scissors.\n",
            "You won!\n",
            "Type Rock/Paper/Scissors or Q to quit: paper\n",
            "Computer picked rock.\n",
            "You won!\n",
            "Type Rock/Paper/Scissors or Q to quit: q\n",
            "You won 3 times.\n",
            "The computer won 0 times.\n",
            "You both tied 4 times.\n",
            "Goodbye!\n"
          ]
        }
      ],
      "source": [
        "import random\n",
        "\n",
        "user_wins = 0\n",
        "computer_wins = 0\n",
        "both_tied = 0\n",
        "\n",
        "options = [\"rock\", \"paper\", \"scissors\"]\n",
        "\n",
        "while True:\n",
        "    user_input = input(\"Type Rock/Paper/Scissors or Q to quit: \").lower()\n",
        "    if user_input == \"q\":\n",
        "        break\n",
        "\n",
        "    if user_input not in options:\n",
        "        continue\n",
        "\n",
        "    random_number = random.randint(0, 2)\n",
        "    # rock: 0, paper: 1, scissors: 2\n",
        "    computer_pick = options[random_number]\n",
        "    print(\"Computer picked\", computer_pick + \".\")\n",
        "\n",
        "    if user_input == \"rock\" and computer_pick == \"scissors\":\n",
        "        print(\"You won!\")\n",
        "        user_wins += 1\n",
        "\n",
        "    elif user_input == \"paper\" and computer_pick == \"rock\":\n",
        "        print(\"You won!\")\n",
        "        user_wins += 1\n",
        "\n",
        "    elif user_input == \"scissors\" and computer_pick == \"paper\":\n",
        "        print(\"You won!\")\n",
        "        user_wins += 1\n",
        "\n",
        "    elif user_input == \"rock\" and computer_pick == \"rock\":\n",
        "      print(\"You both tied! Try again.\")\n",
        "      both_tied += 1\n",
        "\n",
        "    elif user_input == \"scissors\" and computer_pick == \"scissors\":\n",
        "      print(\"You both tied! Try again.\")\n",
        "      both_tied += 1\n",
        "\n",
        "    elif user_input == \"paper\" and computer_pick == \"paper\":\n",
        "      print(\"You both tied! Try again.\")\n",
        "      both_tied += 1\n",
        "\n",
        "    else:\n",
        "        print(\"You lost!\")\n",
        "        computer_wins += 1\n",
        "\n",
        "print(\"You won\", user_wins, \"times.\")\n",
        "print(\"The computer won\", computer_wins, \"times.\")\n",
        "print(\"You both tied\", both_tied, \"times.\")\n",
        "print(\"Goodbye!\")"
      ]
    }
  ],
  "metadata": {
    "colab": {
      "provenance": [],
      "include_colab_link": true
    },
    "kernelspec": {
      "display_name": "Python 3",
      "name": "python3"
    },
    "language_info": {
      "name": "python"
    }
  },
  "nbformat": 4,
  "nbformat_minor": 0
}