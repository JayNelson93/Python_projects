{
  "nbformat": 4,
  "nbformat_minor": 0,
  "metadata": {
    "colab": {
      "provenance": [],
      "include_colab_link": true
    },
    "kernelspec": {
      "display_name": "Python 3",
      "name": "python3"
    },
    "language_info": {
      "name": "python"
    }
  },
  "cells": [
    {
      "cell_type": "markdown",
      "metadata": {
        "id": "view-in-github",
        "colab_type": "text"
      },
      "source": [
        "<a href=\"https://colab.research.google.com/github/JayNelson93/qwiklabdemo/blob/main/Python_Challenge_Quiz.ipynb\" target=\"_parent\"><img src=\"https://colab.research.google.com/assets/colab-badge.svg\" alt=\"Open In Colab\"/></a>"
      ]
    },
    {
      "cell_type": "code",
      "metadata": {
        "colab": {
          "base_uri": "https://localhost:8080/"
        },
        "id": "1ZZLz65a0QSp",
        "outputId": "661ff4bf-83cc-4130-becf-3da286f963f9"
      },
      "source": [
        "print('Welcome to my Quiz! Let test your knowledge of the sports world.')\n",
        "answer=input('Are you ready to play? (yes/no) : ')\n",
        "\n",
        "if answer.lower()=='no':\n",
        "    print('I wish that weren\\'t the case , come back soon! ')\n",
        "\n",
        "elif answer.lower()=='yes':\n",
        "    print('We\\'ll start with the most obvious question! ')\n",
        "    answer=input('Question 1: Who is you favorite NFL football team? ')\n",
        "\n",
        "    if answer.lower()=='cowboys':\n",
        "        print('I like the way you think!')\n",
        "    else:\n",
        "        print('Not good enough, sorry! correct answer: cowboys')\n",
        " \n",
        "    answer=input('Question 2(True or False): Your favorite team has appeared in the superbowl in the past 5 years.  ')\n",
        "    if answer.lower()=='true':\n",
        "        print('They are better than I thought')\n",
        "    else:\n",
        "        print('It\\'s coming just wait on it!')\n",
        " \n",
        "    answer=input('Question 3: Can machine learning algorithims predict the next football play?  ')\n",
        "    if answer.lower()=='yes':\n",
        "        print('Good job')\n",
        "    else:\n",
        "        print('Flag on the play! correct answer: yes')\n",
        "\n",
        "    answer=input('Question 4: How do you get play-by-play data into GCS\\(Google Cloud Storage\\)? ')\n",
        "    if answer.lower()=='bash script':\n",
        "        print('How\\'d you know?!')\n",
        "    else:\n",
        "        print('I had to look this up myself, no sweat. correct answer: bash script')\n",
        "\n",
        "    answer=input('Question 5: How would you transform the data from unstructured JSON format to structured CSV files? ')\n",
        "    if answer.lower()=='dataflow':\n",
        "        print('correct once again')\n",
        "    else:\n",
        "        print('it\\'s okay, I promise. correct answer: Dataflow')\n",
        "\n",
        "    answer=input('Question 6: If Zeke rushed for 117 yards on 15 carries, what would his average yards per carry be?  ')\n",
        "    if answer.lower()=='7.8':\n",
        "        print('correct')\n",
        "    else:\n",
        "        print('Almost! correct answer: 7.8')\n",
        "\n",
        "    answer=input('Question 7 (True or False): Your favorite NBA team has the color \\\"Purple\\\" in it... ')\n",
        "    if answer.lower()=='true':\n",
        "        print('correct,we see eye to eye!')\n",
        "    else:\n",
        "        print('So they aren\\'t the Lakers, gotcha :(')\n",
        "\n",
        "    answer=input('Question 8: What database can transmit player and ball motion data during an MLB\\(baseball\\) game? ')\n",
        "    if answer.lower()=='postgresql':\n",
        "        print('Wow, correct!')\n",
        "    else:\n",
        "        print('Wrong Answer :( correct answer: postgresql')\n",
        "\n",
        "    answer=input('Question 9: Are there possible inconsistencies when data is tranferred from seasons dating back to the 90\\'s? ')\n",
        "    if answer.lower()=='yes':\n",
        "        print('correct, good one')\n",
        "    else:\n",
        "        print('Wrong Answer :(, correct answer: yes')\n",
        "\n",
        "    answer=input('Question 10 (True or False): Since the pandemic, sports data will be more inconsistent than before... ')\n",
        "    if answer.lower()=='true':\n",
        "        print('correct')\n",
        "    else:\n",
        "        print('Wrong :( because fans and certain players opting out')\n",
        " \n",
        "else:\n",
        "  print('Have a good one then!')"
      ],
      "execution_count": null,
      "outputs": [
        {
          "output_type": "stream",
          "name": "stdout",
          "text": [
            "Welcome to my Quiz! Let test your knowledge of the sports world.\n",
            "Are you ready to play? (yes/no) : yes\n",
            "We'll start with the most obvious question! \n",
            "Question 1: Who is you favorite NFL football team? b\n",
            "Not good enough, sorry! correct answer: cowboys\n",
            "Question 2(True or False): Your favorite team has appeared in the superbowl in the past 5 years.  false\n",
            "It's coming just wait on it!\n",
            "Question 3: Can machine learning algorithims predict the next football play?  yes\n",
            "Good job\n",
            "Question 4: How do you get play-by-play data into GCS\\(Google Cloud Storage\\)? data\n",
            "I had to look this up myself, no sweat. correct answer: bash script\n",
            "Question 5: How would you transform the data from unstructured JSON format to structured CSV files? bah\n",
            "it\\s okay, I promise. correct answer: Dataflow\n"
          ]
        }
      ]
    },
    {
      "cell_type": "code",
      "source": [],
      "metadata": {
        "id": "xZONZg9ff-lq"
      },
      "execution_count": null,
      "outputs": []
    },
    {
      "cell_type": "code",
      "metadata": {
        "id": "0_uajesIN_ug"
      },
      "source": [],
      "execution_count": null,
      "outputs": []
    }
  ]
}